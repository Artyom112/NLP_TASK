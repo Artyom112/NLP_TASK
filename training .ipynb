{
 "cells": [
  {
   "cell_type": "code",
   "execution_count": 447,
   "metadata": {},
   "outputs": [
    {
     "name": "stderr",
     "output_type": "stream",
     "text": [
      "[nltk_data] Downloading package wordnet to\n",
      "[nltk_data]     /Users/artyomkholodkov/nltk_data...\n",
      "[nltk_data]   Package wordnet is already up-to-date!\n"
     ]
    }
   ],
   "source": [
    "import nltk\n",
    "nltk.download('wordnet')\n",
    "import pandas as pd\n",
    "import numpy as np\n",
    "import seaborn as sns\n",
    "import matplotlib.pyplot as plt\n",
    "from nltk.tokenize import WordPunctTokenizer\n",
    "from nltk.corpus import stopwords\n",
    "from nltk.stem import WordNetLemmatizer\n",
    "import re\n",
    "from sklearn.feature_extraction.text import TfidfVectorizer\n",
    "from sklearn.pipeline import Pipeline\n",
    "from sklearn.linear_model import LogisticRegression\n",
    "from sklearn import model_selection\n",
    "from sklearn.model_selection import train_test_split, cross_val_predict, cross_val_score\n",
    "from sklearn.metrics import accuracy_score, confusion_matrix\n",
    "from sklearn.decomposition import PCA\n",
    "from scipy.sparse import csr_matrix\n",
    "from sklearn.multiclass import OneVsRestClassifier\n",
    "from joblib import dump, load"
   ]
  },
  {
   "cell_type": "code",
   "execution_count": 401,
   "metadata": {},
   "outputs": [],
   "source": [
    "data = pd.read_csv('/Users/artyomkholodkov/Downloads/raw_text.csv')"
   ]
  },
  {
   "cell_type": "code",
   "execution_count": 402,
   "metadata": {},
   "outputs": [
    {
     "name": "stdout",
     "output_type": "stream",
     "text": [
      "<class 'pandas.core.frame.DataFrame'>\n",
      "RangeIndex: 860 entries, 0 to 859\n",
      "Data columns (total 2 columns):\n",
      " #   Column  Non-Null Count  Dtype \n",
      "---  ------  --------------  ----- \n",
      " 0   text    860 non-null    object\n",
      " 1   label   860 non-null    object\n",
      "dtypes: object(2)\n",
      "memory usage: 13.6+ KB\n"
     ]
    }
   ],
   "source": [
    "data.info()"
   ]
  },
  {
   "cell_type": "code",
   "execution_count": 403,
   "metadata": {},
   "outputs": [
    {
     "data": {
      "text/html": [
       "<div>\n",
       "<style scoped>\n",
       "    .dataframe tbody tr th:only-of-type {\n",
       "        vertical-align: middle;\n",
       "    }\n",
       "\n",
       "    .dataframe tbody tr th {\n",
       "        vertical-align: top;\n",
       "    }\n",
       "\n",
       "    .dataframe thead th {\n",
       "        text-align: right;\n",
       "    }\n",
       "</style>\n",
       "<table border=\"1\" class=\"dataframe\">\n",
       "  <thead>\n",
       "    <tr style=\"text-align: right;\">\n",
       "      <th></th>\n",
       "      <th>text</th>\n",
       "      <th>label</th>\n",
       "    </tr>\n",
       "  </thead>\n",
       "  <tbody>\n",
       "    <tr>\n",
       "      <th>0</th>\n",
       "      <td>The following content is\\nprovided under a Cre...</td>\n",
       "      <td>Calculus</td>\n",
       "    </tr>\n",
       "    <tr>\n",
       "      <th>1</th>\n",
       "      <td>In this sequence of segments,\\nwe review some ...</td>\n",
       "      <td>Probability</td>\n",
       "    </tr>\n",
       "    <tr>\n",
       "      <th>2</th>\n",
       "      <td>The following content is\\nprovided under a Cre...</td>\n",
       "      <td>CS</td>\n",
       "    </tr>\n",
       "    <tr>\n",
       "      <th>3</th>\n",
       "      <td>The following\\ncontent is provided under a Cre...</td>\n",
       "      <td>Algorithms</td>\n",
       "    </tr>\n",
       "    <tr>\n",
       "      <th>4</th>\n",
       "      <td>The following\\ncontent is provided under a Cre...</td>\n",
       "      <td>Algorithms</td>\n",
       "    </tr>\n",
       "    <tr>\n",
       "      <th>...</th>\n",
       "      <td>...</td>\n",
       "      <td>...</td>\n",
       "    </tr>\n",
       "    <tr>\n",
       "      <th>855</th>\n",
       "      <td>The following content is\\nprovided under a Cre...</td>\n",
       "      <td>Math for Eng.</td>\n",
       "    </tr>\n",
       "    <tr>\n",
       "      <th>856</th>\n",
       "      <td>&amp;gt;&amp;gt; [MUSIC] &amp;gt;&amp;gt; DAVID J. MALAN: All ...</td>\n",
       "      <td>Diff. Eq.</td>\n",
       "    </tr>\n",
       "    <tr>\n",
       "      <th>857</th>\n",
       "      <td>The following content is\\nprovided by MIT Open...</td>\n",
       "      <td>Linear Algebra</td>\n",
       "    </tr>\n",
       "    <tr>\n",
       "      <th>858</th>\n",
       "      <td>The following content is\\nprovided under a Cre...</td>\n",
       "      <td>AI</td>\n",
       "    </tr>\n",
       "    <tr>\n",
       "      <th>859</th>\n",
       "      <td>The following content is\\nprovided under a Cre...</td>\n",
       "      <td>Diff. Eq.</td>\n",
       "    </tr>\n",
       "  </tbody>\n",
       "</table>\n",
       "<p>860 rows × 2 columns</p>\n",
       "</div>"
      ],
      "text/plain": [
       "                                                  text           label\n",
       "0    The following content is\\nprovided under a Cre...        Calculus\n",
       "1    In this sequence of segments,\\nwe review some ...     Probability\n",
       "2    The following content is\\nprovided under a Cre...              CS\n",
       "3    The following\\ncontent is provided under a Cre...      Algorithms\n",
       "4    The following\\ncontent is provided under a Cre...      Algorithms\n",
       "..                                                 ...             ...\n",
       "855  The following content is\\nprovided under a Cre...   Math for Eng.\n",
       "856  &gt;&gt; [MUSIC] &gt;&gt; DAVID J. MALAN: All ...       Diff. Eq.\n",
       "857  The following content is\\nprovided by MIT Open...  Linear Algebra\n",
       "858  The following content is\\nprovided under a Cre...              AI\n",
       "859  The following content is\\nprovided under a Cre...       Diff. Eq.\n",
       "\n",
       "[860 rows x 2 columns]"
      ]
     },
     "execution_count": 403,
     "metadata": {},
     "output_type": "execute_result"
    }
   ],
   "source": [
    "data"
   ]
  },
  {
   "cell_type": "markdown",
   "metadata": {},
   "source": [
    "Посмотрим на уникальные значения label"
   ]
  },
  {
   "cell_type": "code",
   "execution_count": 404,
   "metadata": {},
   "outputs": [
    {
     "data": {
      "text/plain": [
       "array(['AI', 'Algorithms', 'CS', 'Calculus', 'Data Structures',\n",
       "       'Diff. Eq.', 'Linear Algebra', 'Math for Eng.', 'NLP',\n",
       "       'Probability', 'Statistics'], dtype=object)"
      ]
     },
     "execution_count": 404,
     "metadata": {},
     "output_type": "execute_result"
    }
   ],
   "source": [
    "unique_labels = np.unique(data['label'].values)\n",
    "unique_labels"
   ]
  },
  {
   "cell_type": "markdown",
   "metadata": {},
   "source": [
    "Визуализируем распределение целевого признака"
   ]
  },
  {
   "cell_type": "code",
   "execution_count": 405,
   "metadata": {},
   "outputs": [
    {
     "data": {
      "image/png": "[encoded data removed]",
      "text/plain": [
       "<Figure size 432x288 with 1 Axes>"
      ]
     },
     "metadata": {
      "needs_background": "light"
     },
     "output_type": "display_data"
    }
   ],
   "source": [
    "plt.figure()\n",
    "sns.countplot(x='label', data=data)\n",
    "plt.xticks(rotation=90)\n",
    "plt.show()"
   ]
  },
  {
   "cell_type": "markdown",
   "metadata": {},
   "source": [
    "Отчистим и лемматизируем текст, понизив тем самым размерность признакового пространства"
   ]
  },
  {
   "cell_type": "code",
   "execution_count": 406,
   "metadata": {},
   "outputs": [],
   "source": [
    "tokenizer = WordPunctTokenizer()\n",
    "lemmatizer = WordNetLemmatizer()"
   ]
  },
  {
   "cell_type": "code",
   "execution_count": 407,
   "metadata": {},
   "outputs": [],
   "source": [
    "def clean_data(data):\n",
    "    cleaned_sent = []\n",
    "    for sent in data:\n",
    "        sent = sent.lower() #lower string\n",
    "        sent = re.sub(r'\\d+', '', sent) #remove numbers\n",
    "        sent = ' '.join([word for word in sent.split() if word not in stopwords.words('english')]) #remove stop words\n",
    "        sent = ' '.join(tokenizer.tokenize(sent)) #tokenize\n",
    "        sent = re.sub(r'[^\\w\\s]','',sent) #remove punctuation\n",
    "        sent = ' '.join([lemmatizer.lemmatize(word) for word in sent.split()]) #lemmatize words\n",
    "        cleaned_sent.append(sent)\n",
    "    return cleaned_sent"
   ]
  },
  {
   "cell_type": "markdown",
   "metadata": {},
   "source": [
    "Отчистим текст"
   ]
  },
  {
   "cell_type": "code",
   "execution_count": 408,
   "metadata": {},
   "outputs": [],
   "source": [
    "text = clean_data(data['text'].values)"
   ]
  },
  {
   "cell_type": "code",
   "execution_count": 409,
   "metadata": {},
   "outputs": [],
   "source": [
    "data['cleaned_text'] = text"
   ]
  },
  {
   "cell_type": "markdown",
   "metadata": {},
   "source": [
    "Подготвим значения целевого признака"
   ]
  },
  {
   "cell_type": "code",
   "execution_count": 410,
   "metadata": {},
   "outputs": [],
   "source": [
    "def prep_targets(name):\n",
    "    if name == 'Calculus':\n",
    "        return 0\n",
    "    elif name == 'Probability':\n",
    "        return 1\n",
    "    elif name == 'CS':\n",
    "        return 2\n",
    "    elif name == 'Algorithms':\n",
    "        return 3\n",
    "    elif name == 'Diff. Eq.':\n",
    "        return 4\n",
    "    elif name == 'Linear Algebra':\n",
    "        return 5\n",
    "    elif name == 'AI':\n",
    "        return 6\n",
    "    elif name == 'Statistics':\n",
    "        return 7\n",
    "    elif name == 'Math for Eng.':\n",
    "        return 8\n",
    "    elif name == 'Data Structures':\n",
    "        return 9\n",
    "    else:\n",
    "        return 10"
   ]
  },
  {
   "cell_type": "code",
   "execution_count": 411,
   "metadata": {},
   "outputs": [],
   "source": [
    "data['targets'] = data['label'].apply(lambda x: prep_targets(x))"
   ]
  },
  {
   "cell_type": "markdown",
   "metadata": {},
   "source": [
    "Слегка выровняем распределение значений целевого признака, применив positive sampling (чтобы позволить алгоритму настраиваться на все классы)"
   ]
  },
  {
   "cell_type": "code",
   "execution_count": 412,
   "metadata": {},
   "outputs": [],
   "source": [
    "multipliers = {'AI': 0.5, 'Math for Eng.': 2, 'Data Structures': 0.3, 'NLP': 3}"
   ]
  },
  {
   "cell_type": "code",
   "execution_count": 413,
   "metadata": {},
   "outputs": [],
   "source": [
    "data_ext = data\n",
    "\n",
    "for label, multiplier in multipliers.items():\n",
    "    data_size = data[data['label'] == label].shape[0]\n",
    "    index = data[data['label'] == label].index\n",
    "    \n",
    "    size_to_add = int(multiplier * data_size)\n",
    "    index = np.random.choice(index, size_to_add)\n",
    "    data_ext = pd.concat([data_ext, data.loc[index, :]])"
   ]
  },
  {
   "cell_type": "code",
   "execution_count": 414,
   "metadata": {},
   "outputs": [
    {
     "data": {
      "text/plain": [
       "(1015, 4)"
      ]
     },
     "execution_count": 414,
     "metadata": {},
     "output_type": "execute_result"
    }
   ],
   "source": [
    "data_ext.shape"
   ]
  },
  {
   "cell_type": "code",
   "execution_count": 415,
   "metadata": {},
   "outputs": [
    {
     "data": {
      "image/png": "[encoded data removed]",
      "text/plain": [
       "<Figure size 432x288 with 1 Axes>"
      ]
     },
     "metadata": {
      "needs_background": "light"
     },
     "output_type": "display_data"
    }
   ],
   "source": [
    "plt.figure()\n",
    "sns.countplot(x='label', data=data_ext)\n",
    "plt.xticks(rotation=90)\n",
    "plt.show()"
   ]
  },
  {
   "cell_type": "markdown",
   "metadata": {},
   "source": [
    "Подготовим numpy массивы для текста и значений целевой переменной"
   ]
  },
  {
   "cell_type": "code",
   "execution_count": 457,
   "metadata": {},
   "outputs": [],
   "source": [
    "features = data_ext['cleaned_text'].values\n",
    "targets = data_ext['targets'].values"
   ]
  },
  {
   "cell_type": "markdown",
   "metadata": {},
   "source": [
    "Разделим выборку на тренировочный и тестовый набор. На практике, выборку делят на тренировочную, валидационную и тестовую. Валидационную используют для проверки качества модели, а тестовую - после окончательного выбора модели (например перед запуском в продакшн). Мы же просто разделим на тренировочную и тестовую из-за ограниченного размера выборки"
   ]
  },
  {
   "cell_type": "code",
   "execution_count": 458,
   "metadata": {},
   "outputs": [],
   "source": [
    "data_train, data_test, targets_train, targets_test = train_test_split(features, targets, test_size=0.1)"
   ]
  },
  {
   "cell_type": "markdown",
   "metadata": {},
   "source": [
    "Класс для Pipeline для трансформации матрицы объекты признаки в sparse формат (нужен для PCA)"
   ]
  },
  {
   "cell_type": "code",
   "execution_count": 459,
   "metadata": {},
   "outputs": [],
   "source": [
    "from sklearn.base import BaseEstimator, TransformerMixin\n",
    "\n",
    "class ToDenseTransformer(BaseEstimator, TransformerMixin):\n",
    "    def fit(self, X, y=None):\n",
    "        return self  # nothing else to do\n",
    "    def transform(self, X):\n",
    "        return csr_matrix(X).todense()"
   ]
  },
  {
   "cell_type": "markdown",
   "metadata": {},
   "source": [
    "Logistic regression - строго бинарный классификатор, поэтому импользуемая стратегия тренировки в случае мультиклассовости - OVO. Но лучше использовать OVR из-за ограниченного размера выборки."
   ]
  },
  {
   "cell_type": "code",
   "execution_count": 460,
   "metadata": {},
   "outputs": [],
   "source": [
    "classifier = OneVsRestClassifier(Pipeline([\n",
    "('vectorizer', TfidfVectorizer(analyzer='char_wb', ngram_range=(2, 3), min_df=0.05, max_df=0.5)),\n",
    "('denser', ToDenseTransformer()),\n",
    "('reductor', PCA(n_components=0.95)),\n",
    "('classifier', LogisticRegression(penalty='l2', n_jobs=-1))]))"
   ]
  },
  {
   "cell_type": "markdown",
   "metadata": {},
   "source": [
    "Проверим качество по кросс-валидации. Стратификация производится по умолчанию"
   ]
  },
  {
   "cell_type": "code",
   "execution_count": 446,
   "metadata": {},
   "outputs": [
    {
     "data": {
      "text/plain": [
       "array([0.2557377 , 0.19736842, 0.17434211])"
      ]
     },
     "execution_count": 446,
     "metadata": {},
     "output_type": "execute_result"
    }
   ],
   "source": [
    "cross_val_score(classifier, data_train, targets_train, scoring='accuracy', cv=3)"
   ]
  },
  {
   "cell_type": "markdown",
   "metadata": {},
   "source": [
    "Построим confusion matrix при помощи cross_val_predict"
   ]
  },
  {
   "cell_type": "code",
   "execution_count": 425,
   "metadata": {},
   "outputs": [
    {
     "data": {
      "text/plain": [
       "array([ 0,  1,  2,  3,  4,  5,  6,  7,  8,  9, 10])"
      ]
     },
     "execution_count": 425,
     "metadata": {},
     "output_type": "execute_result"
    }
   ],
   "source": [
    "classifier.classes_"
   ]
  },
  {
   "cell_type": "code",
   "execution_count": 426,
   "metadata": {},
   "outputs": [
    {
     "data": {
      "text/plain": [
       "array([[ 1,  7,  7,  0,  5, 32,  1,  0,  2,  2,  3],\n",
       "       [ 0, 24, 10,  3,  8, 51,  3,  1,  3,  3,  5],\n",
       "       [ 0, 22,  7,  3,  3, 45,  0,  0,  6,  2,  4],\n",
       "       [ 0,  9,  4,  2,  1, 42,  1,  2,  6,  3,  3],\n",
       "       [ 0, 18,  6,  3,  5, 42,  1,  0,  4,  2,  8],\n",
       "       [ 2, 24,  6,  5,  7, 71,  2,  2,  7,  5,  7],\n",
       "       [ 0, 13,  6,  3,  0, 29,  6,  0,  2,  1,  2],\n",
       "       [ 1, 10,  9,  0,  4, 34,  0,  1,  4,  2,  2],\n",
       "       [ 0, 10,  4,  0,  0, 22,  0,  0, 39,  0,  2],\n",
       "       [ 0, 16,  5,  4,  3, 29,  0,  1,  6,  6,  2],\n",
       "       [ 0, 10,  1,  0,  0, 14,  0,  0,  2,  0, 45]])"
      ]
     },
     "execution_count": 426,
     "metadata": {},
     "output_type": "execute_result"
    }
   ],
   "source": [
    "y_pred = cross_val_predict(classifier, data_train, targets_train, cv=3)\n",
    "conf_mx = confusion_matrix(targets_train, y_pred)\n",
    "conf_mx"
   ]
  },
  {
   "cell_type": "code",
   "execution_count": 430,
   "metadata": {},
   "outputs": [
    {
     "data": {
      "text/plain": [
       "<Figure size 432x288 with 0 Axes>"
      ]
     },
     "metadata": {},
     "output_type": "display_data"
    },
    {
     "data": {
      "image/png": "[encoded data removed]",
      "text/plain": [
       "<Figure size 288x288 with 1 Axes>"
      ]
     },
     "metadata": {
      "needs_background": "light"
     },
     "output_type": "display_data"
    }
   ],
   "source": [
    "plt.figure()\n",
    "plt.matshow(conf_mx, cmap=plt.cm.gray)\n",
    "plt.show()"
   ]
  },
  {
   "cell_type": "markdown",
   "metadata": {},
   "source": [
    "Посмотрим на частоты ошибок по классам"
   ]
  },
  {
   "cell_type": "code",
   "execution_count": 432,
   "metadata": {},
   "outputs": [],
   "source": [
    "row_sums = conf_mx.sum(axis=1, keepdims=True)\n",
    "norm_conf_mx = conf_mx / row_sums"
   ]
  },
  {
   "cell_type": "code",
   "execution_count": 433,
   "metadata": {},
   "outputs": [
    {
     "data": {
      "image/png": "[encoded data removed]",
      "text/plain": [
       "<Figure size 288x288 with 1 Axes>"
      ]
     },
     "metadata": {
      "needs_background": "light"
     },
     "output_type": "display_data"
    }
   ],
   "source": [
    "np.fill_diagonal(norm_conf_mx, 0)\n",
    "plt.matshow(norm_conf_mx, cmap=plt.cm.gray)\n",
    "plt.show()"
   ]
  },
  {
   "cell_type": "markdown",
   "metadata": {},
   "source": [
    "Можно сделать вывод о том, что алгоритм успел настроиться на 5-й класс, и ошибочно принимает другие классы за 5-й. Это может быть сзязано с наибольшей долей объектов пятого класса. То же самое относится ко 2-му классу (Probability), но в меньшей степени. Также, алгоритм правильо предсказывает Math for Eng. и NLP. Это может быть связано с применением positive sampling и тем фактом, что объекты данных классов могут иметь одинаковое признаковое описание в валидационном фолде на кросс-валидации. Настроим алгоритм на всем тренировочном наборе и проверим качество на test_set:"
   ]
  },
  {
   "cell_type": "code",
   "execution_count": 461,
   "metadata": {},
   "outputs": [
    {
     "data": {
      "text/plain": [
       "OneVsRestClassifier(estimator=Pipeline(steps=[('vectorizer',\n",
       "                                               TfidfVectorizer(analyzer='char_wb',\n",
       "                                                               max_df=0.5,\n",
       "                                                               min_df=0.05,\n",
       "                                                               ngram_range=(2,\n",
       "                                                                            3))),\n",
       "                                              ('denser', ToDenseTransformer()),\n",
       "                                              ('reductor',\n",
       "                                               PCA(n_components=0.95)),\n",
       "                                              ('classifier',\n",
       "                                               LogisticRegression(n_jobs=-1))]))"
      ]
     },
     "execution_count": 461,
     "metadata": {},
     "output_type": "execute_result"
    }
   ],
   "source": [
    "classifier.fit(data_train, targets_train)"
   ]
  },
  {
   "cell_type": "code",
   "execution_count": 462,
   "metadata": {},
   "outputs": [],
   "source": [
    "predictions = classifier.predict(data_test)"
   ]
  },
  {
   "cell_type": "code",
   "execution_count": 463,
   "metadata": {},
   "outputs": [
    {
     "data": {
      "text/plain": [
       "0.21568627450980393"
      ]
     },
     "execution_count": 463,
     "metadata": {},
     "output_type": "execute_result"
    }
   ],
   "source": [
    "accuracy_score(targets_test, predictions)"
   ]
  },
  {
   "cell_type": "code",
   "execution_count": 464,
   "metadata": {},
   "outputs": [
    {
     "data": {
      "text/plain": [
       "['/Users/artyomkholodkov/Downloads/Models/model.pkl']"
      ]
     },
     "execution_count": 464,
     "metadata": {},
     "output_type": "execute_result"
    }
   ],
   "source": [
    "dump(classifier, '/Users/artyomkholodkov/Downloads/Models/model.pkl', compress=1) "
   ]
  },
  {
   "cell_type": "code",
   "execution_count": 465,
   "metadata": {},
   "outputs": [
    {
     "data": {
      "text/plain": [
       "array([1, 1, 5, 3, 3, 5, 3, 5, 2, 5])"
      ]
     },
     "execution_count": 465,
     "metadata": {},
     "output_type": "execute_result"
    }
   ],
   "source": [
    "classifier.predict(data_ext['cleaned_text'][:10].values)"
   ]
  },
  {
   "cell_type": "markdown",
   "metadata": {},
   "source": [
    "Видим, что при отсутствии стратификации на тестовом наборе, классификатор показывает качество еще хуже. Уже по полученным результатам понятно, что классификатор достигает плохого качества из-за крайне ограниченного размера выборки. Даже после понижения размерности при помощи PCA, размерность матрицы объекты-признаки превышает 200. Учитывая, что при росте размерности признакового пространства необходимое количество объектов растет экспоненциально, 860 объектов в выборке крайне недостаточно для полученя классификатора с хорошим качеством, тем более учитывая мультиклассовость. Использование других алгоритмов, таких как XGBoost, SVM или Naive Bayes, также лишено особого смысла. Потенциальным выходом из ситуации является сбор большего количества данных."
   ]
  }
 ],
 "metadata": {
  "kernelspec": {
   "display_name": "Python 3",
   "language": "python",
   "name": "python3"
  },
  "language_info": {
   "codemirror_mode": {
    "name": "ipython",
    "version": 3
   },
   "file_extension": ".py",
   "mimetype": "text/x-python",
   "name": "python",
   "nbconvert_exporter": "python",
   "pygments_lexer": "ipython3",
   "version": "3.7.9"
  }
 },
 "nbformat": 4,
 "nbformat_minor": 4
}
