{
 "cells": [
  {
   "cell_type": "code",
   "execution_count": 1,
   "metadata": {},
   "outputs": [
    {
     "name": "stderr",
     "output_type": "stream",
     "text": [
      "[nltk_data] Downloading package wordnet to\n",
      "[nltk_data]     /Users/artyomkholodkov/nltk_data...\n",
      "[nltk_data]   Package wordnet is already up-to-date!\n"
     ]
    }
   ],
   "source": [
    "import nltk\n",
    "nltk.download('wordnet')\n",
    "import pandas as pd\n",
    "import numpy as np\n",
    "import seaborn as sns\n",
    "import matplotlib.pyplot as plt\n",
    "from nltk.tokenize import WordPunctTokenizer\n",
    "from nltk.corpus import stopwords\n",
    "from nltk.stem import WordNetLemmatizer\n",
    "import re\n",
    "from sklearn.feature_extraction.text import TfidfVectorizer\n",
    "from sklearn.pipeline import Pipeline\n",
    "from sklearn.linear_model import LogisticRegression\n",
    "from sklearn import model_selection\n",
    "from sklearn.model_selection import train_test_split, cross_val_predict, cross_val_score\n",
    "from sklearn.metrics import accuracy_score, confusion_matrix\n",
    "from sklearn.decomposition import PCA\n",
    "from scipy.sparse import csr_matrix\n",
    "from sklearn.multiclass import OneVsRestClassifier\n",
    "from joblib import dump, load\n",
    "from sklearn.svm import SVC"
   ]
  },
  {
   "cell_type": "code",
   "execution_count": 2,
   "metadata": {},
   "outputs": [],
   "source": [
    "data = pd.read_csv('/Users/artyomkholodkov/Downloads/raw_text.csv')"
   ]
  },
  {
   "cell_type": "code",
   "execution_count": 3,
   "metadata": {},
   "outputs": [
    {
     "name": "stdout",
     "output_type": "stream",
     "text": [
      "<class 'pandas.core.frame.DataFrame'>\n",
      "RangeIndex: 860 entries, 0 to 859\n",
      "Data columns (total 2 columns):\n",
      " #   Column  Non-Null Count  Dtype \n",
      "---  ------  --------------  ----- \n",
      " 0   text    860 non-null    object\n",
      " 1   label   860 non-null    object\n",
      "dtypes: object(2)\n",
      "memory usage: 13.6+ KB\n"
     ]
    }
   ],
   "source": [
    "data.info()"
   ]
  },
  {
   "cell_type": "code",
   "execution_count": 4,
   "metadata": {},
   "outputs": [
    {
     "data": {
      "text/html": [
       "<div>\n",
       "<style scoped>\n",
       "    .dataframe tbody tr th:only-of-type {\n",
       "        vertical-align: middle;\n",
       "    }\n",
       "\n",
       "    .dataframe tbody tr th {\n",
       "        vertical-align: top;\n",
       "    }\n",
       "\n",
       "    .dataframe thead th {\n",
       "        text-align: right;\n",
       "    }\n",
       "</style>\n",
       "<table border=\"1\" class=\"dataframe\">\n",
       "  <thead>\n",
       "    <tr style=\"text-align: right;\">\n",
       "      <th></th>\n",
       "      <th>text</th>\n",
       "      <th>label</th>\n",
       "    </tr>\n",
       "  </thead>\n",
       "  <tbody>\n",
       "    <tr>\n",
       "      <th>0</th>\n",
       "      <td>The following content is\\nprovided under a Cre...</td>\n",
       "      <td>Calculus</td>\n",
       "    </tr>\n",
       "    <tr>\n",
       "      <th>1</th>\n",
       "      <td>In this sequence of segments,\\nwe review some ...</td>\n",
       "      <td>Probability</td>\n",
       "    </tr>\n",
       "    <tr>\n",
       "      <th>2</th>\n",
       "      <td>The following content is\\nprovided under a Cre...</td>\n",
       "      <td>CS</td>\n",
       "    </tr>\n",
       "    <tr>\n",
       "      <th>3</th>\n",
       "      <td>The following\\ncontent is provided under a Cre...</td>\n",
       "      <td>Algorithms</td>\n",
       "    </tr>\n",
       "    <tr>\n",
       "      <th>4</th>\n",
       "      <td>The following\\ncontent is provided under a Cre...</td>\n",
       "      <td>Algorithms</td>\n",
       "    </tr>\n",
       "  </tbody>\n",
       "</table>\n",
       "</div>"
      ],
      "text/plain": [
       "                                                text        label\n",
       "0  The following content is\\nprovided under a Cre...     Calculus\n",
       "1  In this sequence of segments,\\nwe review some ...  Probability\n",
       "2  The following content is\\nprovided under a Cre...           CS\n",
       "3  The following\\ncontent is provided under a Cre...   Algorithms\n",
       "4  The following\\ncontent is provided under a Cre...   Algorithms"
      ]
     },
     "execution_count": 4,
     "metadata": {},
     "output_type": "execute_result"
    }
   ],
   "source": [
    "data.head()"
   ]
  },
  {
   "cell_type": "markdown",
   "metadata": {},
   "source": [
    "Посмотрим на уникальные значения label"
   ]
  },
  {
   "cell_type": "code",
   "execution_count": 5,
   "metadata": {},
   "outputs": [
    {
     "data": {
      "text/plain": [
       "array(['AI', 'Algorithms', 'CS', 'Calculus', 'Data Structures',\n",
       "       'Diff. Eq.', 'Linear Algebra', 'Math for Eng.', 'NLP',\n",
       "       'Probability', 'Statistics'], dtype=object)"
      ]
     },
     "execution_count": 5,
     "metadata": {},
     "output_type": "execute_result"
    }
   ],
   "source": [
    "unique_labels = np.unique(data['label'].values)\n",
    "unique_labels"
   ]
  },
  {
   "cell_type": "markdown",
   "metadata": {},
   "source": [
    "Визуализируем распределение целевого признака"
   ]
  },
  {
   "cell_type": "code",
   "execution_count": 6,
   "metadata": {},
   "outputs": [
    {
     "data": {
      "image/png": "[encoded data removed]",
      "text/plain": [
       "<Figure size 432x288 with 1 Axes>"
      ]
     },
     "metadata": {
      "needs_background": "light"
     },
     "output_type": "display_data"
    }
   ],
   "source": [
    "plt.figure()\n",
    "sns.countplot(x='label', data=data)\n",
    "plt.xticks(rotation=90)\n",
    "plt.show()"
   ]
  },
  {
   "cell_type": "markdown",
   "metadata": {},
   "source": [
    "Отчистим и лемматизируем текст, понизив тем самым размерность признакового пространства"
   ]
  },
  {
   "cell_type": "code",
   "execution_count": 7,
   "metadata": {},
   "outputs": [],
   "source": [
    "tokenizer = WordPunctTokenizer()\n",
    "lemmatizer = WordNetLemmatizer()"
   ]
  },
  {
   "cell_type": "code",
   "execution_count": 8,
   "metadata": {},
   "outputs": [],
   "source": [
    "def clean_data(data):\n",
    "    cleaned_sent = []\n",
    "    for sent in data:\n",
    "        sent = sent.lower() #lower string\n",
    "        sent = re.sub(r'\\d+', '', sent) #remove numbers\n",
    "        sent = ' '.join([word for word in sent.split() if word not in stopwords.words('english')]) #remove stop words\n",
    "        sent = ' '.join(tokenizer.tokenize(sent)) #tokenize\n",
    "        sent = re.sub(r'[^\\w\\s]','',sent) #remove punctuation\n",
    "        sent = ' '.join([lemmatizer.lemmatize(word) for word in sent.split()]) #lemmatize words\n",
    "        cleaned_sent.append(sent)\n",
    "    return cleaned_sent"
   ]
  },
  {
   "cell_type": "markdown",
   "metadata": {},
   "source": [
    "Отчистим текст"
   ]
  },
  {
   "cell_type": "code",
   "execution_count": 9,
   "metadata": {},
   "outputs": [],
   "source": [
    "text = clean_data(data['text'].values)"
   ]
  },
  {
   "cell_type": "code",
   "execution_count": 10,
   "metadata": {},
   "outputs": [],
   "source": [
    "data['cleaned_text'] = text"
   ]
  },
  {
   "cell_type": "markdown",
   "metadata": {},
   "source": [
    "Подготвим значения целевого признака"
   ]
  },
  {
   "cell_type": "code",
   "execution_count": 16,
   "metadata": {},
   "outputs": [],
   "source": [
    "def prep_targets(name):\n",
    "    if name == 'Calculus':\n",
    "        return 0\n",
    "    elif name == 'Probability':\n",
    "        return 1\n",
    "    elif name == 'CS':\n",
    "        return 2\n",
    "    elif name == 'Algorithms':\n",
    "        return 3\n",
    "    elif name == 'Diff. Eq.':\n",
    "        return 4\n",
    "    elif name == 'Linear Algebra':\n",
    "        return 5\n",
    "    elif name == 'AI':\n",
    "        return 6\n",
    "    elif name == 'Statistics':\n",
    "        return 7\n",
    "    elif name == 'Math for Eng.':\n",
    "        return 8\n",
    "    elif name == 'Data Structures':\n",
    "        return 9\n",
    "    else:\n",
    "        return 10"
   ]
  },
  {
   "cell_type": "code",
   "execution_count": 17,
   "metadata": {},
   "outputs": [],
   "source": [
    "data['targets'] = data['label'].apply(lambda x: prep_targets(x))"
   ]
  },
  {
   "cell_type": "markdown",
   "metadata": {},
   "source": [
    "В выборке содержатся 860 текстов. Если сделать каждый текст одним объектом, то объектов будет не хватать, так как необходимое количество данных будет расти экспоненциально с ростом размерности. Разобъем каждый текст на отрывки длинной в 200 слов, каждый из которых будет иметь один и тот же label, соответствующий данному тексту. На инференсе будем также разбивать текст на отрывки, делать для них предсказания, а для всего текста выбирать наиболее часто встречающийся класс среди всех отрывков."
   ]
  },
  {
   "cell_type": "code",
   "execution_count": 19,
   "metadata": {},
   "outputs": [
    {
     "data": {
      "text/plain": [
       "2857.0058139534885"
      ]
     },
     "execution_count": 19,
     "metadata": {},
     "output_type": "execute_result"
    }
   ],
   "source": [
    "mean_length = np.mean([len(text.split()) for text in data['cleaned_text'].values])\n",
    "mean_length"
   ]
  },
  {
   "cell_type": "code",
   "execution_count": 20,
   "metadata": {},
   "outputs": [],
   "source": [
    "def chunks(lst, n):\n",
    "    for i in range(0, len(lst), n):\n",
    "        yield lst[i:i + n]"
   ]
  },
  {
   "cell_type": "code",
   "execution_count": 25,
   "metadata": {},
   "outputs": [],
   "source": [
    "def prep_labels(label):\n",
    "    if label == 0:\n",
    "        return 'Calculus'\n",
    "    elif label == 1:\n",
    "        return 'Probability'\n",
    "    elif label == 2:\n",
    "        return 'CS'\n",
    "    elif label == 3:\n",
    "        return 'Algorithms'\n",
    "    elif label == 4:\n",
    "        return 'Diff. Eq.'\n",
    "    elif label == 5:\n",
    "        return 'Linear Algebra'\n",
    "    elif label == 6:\n",
    "        return 'AI'\n",
    "    elif label == 7:\n",
    "        return 'Statistics'\n",
    "    elif label == 8:\n",
    "        return 'Math for Eng.'\n",
    "    elif label == 9:\n",
    "        return 'Data Structures'\n",
    "    else:\n",
    "        return 'NLP'"
   ]
  },
  {
   "cell_type": "markdown",
   "metadata": {},
   "source": [
    "Разобъем тексты на отрывки"
   ]
  },
  {
   "cell_type": "code",
   "execution_count": 106,
   "metadata": {},
   "outputs": [],
   "source": [
    "texts_ext = []\n",
    "targets_ext = []\n",
    "labels_ext = []\n",
    "    \n",
    "for target, text in zip(data['targets'].values, data['cleaned_text'].values):    \n",
    "    for part in chunks(text.split(), 200):\n",
    "        if len(part) == 200:\n",
    "            texts_ext.append(part)\n",
    "            targets_ext.append(target)\n",
    "            labels_ext.append(prep_labels(target))"
   ]
  },
  {
   "cell_type": "code",
   "execution_count": 107,
   "metadata": {},
   "outputs": [],
   "source": [
    "texts_ext = [' '.join(text) for text in texts_ext]"
   ]
  },
  {
   "cell_type": "code",
   "execution_count": 108,
   "metadata": {},
   "outputs": [
    {
     "data": {
      "text/plain": [
       "(11853, 11853, 11853)"
      ]
     },
     "execution_count": 108,
     "metadata": {},
     "output_type": "execute_result"
    }
   ],
   "source": [
    "len(texts_ext), len(targets_ext), len(labels_ext)"
   ]
  },
  {
   "cell_type": "code",
   "execution_count": 109,
   "metadata": {},
   "outputs": [
    {
     "data": {
      "text/html": [
       "<div>\n",
       "<style scoped>\n",
       "    .dataframe tbody tr th:only-of-type {\n",
       "        vertical-align: middle;\n",
       "    }\n",
       "\n",
       "    .dataframe tbody tr th {\n",
       "        vertical-align: top;\n",
       "    }\n",
       "\n",
       "    .dataframe thead th {\n",
       "        text-align: right;\n",
       "    }\n",
       "</style>\n",
       "<table border=\"1\" class=\"dataframe\">\n",
       "  <thead>\n",
       "    <tr style=\"text-align: right;\">\n",
       "      <th></th>\n",
       "      <th>texts</th>\n",
       "      <th>targets</th>\n",
       "      <th>labels</th>\n",
       "    </tr>\n",
       "  </thead>\n",
       "  <tbody>\n",
       "    <tr>\n",
       "      <th>0</th>\n",
       "      <td>following content provided creative common lic...</td>\n",
       "      <td>0</td>\n",
       "      <td>Calculus</td>\n",
       "    </tr>\n",
       "    <tr>\n",
       "      <th>1</th>\n",
       "      <td>exactly like polynomial there s one thing care...</td>\n",
       "      <td>0</td>\n",
       "      <td>Calculus</td>\n",
       "    </tr>\n",
       "    <tr>\n",
       "      <th>2</th>\n",
       "      <td>think one example i ll repeat example power se...</td>\n",
       "      <td>0</td>\n",
       "      <td>Calculus</td>\n",
       "    </tr>\n",
       "    <tr>\n",
       "      <th>3</th>\n",
       "      <td>power series say radius convergence is now tel...</td>\n",
       "      <td>0</td>\n",
       "      <td>Calculus</td>\n",
       "    </tr>\n",
       "    <tr>\n",
       "      <th>4</th>\n",
       "      <td>so let s new example now oh way say calculate ...</td>\n",
       "      <td>0</td>\n",
       "      <td>Calculus</td>\n",
       "    </tr>\n",
       "  </tbody>\n",
       "</table>\n",
       "</div>"
      ],
      "text/plain": [
       "                                               texts  targets    labels\n",
       "0  following content provided creative common lic...        0  Calculus\n",
       "1  exactly like polynomial there s one thing care...        0  Calculus\n",
       "2  think one example i ll repeat example power se...        0  Calculus\n",
       "3  power series say radius convergence is now tel...        0  Calculus\n",
       "4  so let s new example now oh way say calculate ...        0  Calculus"
      ]
     },
     "execution_count": 109,
     "metadata": {},
     "output_type": "execute_result"
    }
   ],
   "source": [
    "data_ext = pd.DataFrame({'texts': texts_ext, 'targets': targets_ext, 'labels': labels_ext})\n",
    "data_ext.head()"
   ]
  },
  {
   "cell_type": "markdown",
   "metadata": {},
   "source": [
    "Посмотрим на распределение значений целевого признака в расширенном датасете"
   ]
  },
  {
   "cell_type": "code",
   "execution_count": 110,
   "metadata": {},
   "outputs": [
    {
     "data": {
      "image/png": "[encoded data removed]",
      "text/plain": [
       "<Figure size 432x288 with 1 Axes>"
      ]
     },
     "metadata": {
      "needs_background": "light"
     },
     "output_type": "display_data"
    }
   ],
   "source": [
    "plt.figure()\n",
    "sns.countplot(x='labels', data=data_ext)\n",
    "plt.xticks(rotation=90)\n",
    "plt.show()"
   ]
  },
  {
   "cell_type": "markdown",
   "metadata": {},
   "source": [
    "Применим positive sampling к AI, Math for Eng., NLP и negative sampling к Probability и Linear Algebra, чтобы алгоритм настраивался на все классы в равной степени"
   ]
  },
  {
   "cell_type": "code",
   "execution_count": 111,
   "metadata": {},
   "outputs": [],
   "source": [
    "multipliers = {'AI': 0.5, 'Math for Eng.': 1.5, 'Data Structures': 0.4, 'NLP': 3, 'Calculus': 0.2}"
   ]
  },
  {
   "cell_type": "code",
   "execution_count": 112,
   "metadata": {},
   "outputs": [],
   "source": [
    "for label, multiplier in multipliers.items():\n",
    "    data_size = data_ext[data_ext['labels'] == label].shape[0]\n",
    "    index = data_ext[data_ext['labels'] == label].index\n",
    "    \n",
    "    size_to_add = int(multiplier * data_size)\n",
    "    index = np.random.choice(index, size_to_add)\n",
    "    data_ext = pd.concat([data_ext, data_ext.loc[index, :]])"
   ]
  },
  {
   "cell_type": "code",
   "execution_count": 113,
   "metadata": {},
   "outputs": [],
   "source": [
    "data_ext.reset_index(drop=True, inplace=True)"
   ]
  },
  {
   "cell_type": "markdown",
   "metadata": {},
   "source": [
    "Применим negative sampling к 'Linear Algebra', 'Probability'"
   ]
  },
  {
   "cell_type": "code",
   "execution_count": 114,
   "metadata": {},
   "outputs": [],
   "source": [
    "for label in ['Linear Algebra', 'Probability']:\n",
    "    num_inst_del = data_ext[data_ext['labels'] == label].shape[0] - data_ext[data_ext['labels'] == \n",
    "                                                                             'Algorithms'].shape[0]\n",
    "    index = data_ext[data_ext['labels'] == label].index\n",
    "    index = np.random.choice(index, num_inst_del, replace=False)\n",
    "    data_ext.drop(index, axis=0, inplace=True)"
   ]
  },
  {
   "cell_type": "code",
   "execution_count": 115,
   "metadata": {},
   "outputs": [],
   "source": [
    "data_ext.reset_index(drop=True, inplace=True)"
   ]
  },
  {
   "cell_type": "code",
   "execution_count": 116,
   "metadata": {},
   "outputs": [
    {
     "data": {
      "image/png": "[encoded data removed]",
      "text/plain": [
       "<Figure size 432x288 with 1 Axes>"
      ]
     },
     "metadata": {
      "needs_background": "light"
     },
     "output_type": "display_data"
    }
   ],
   "source": [
    "plt.figure()\n",
    "sns.countplot(x='labels', data=data_ext)\n",
    "plt.xticks(rotation=90)\n",
    "plt.show()"
   ]
  },
  {
   "cell_type": "markdown",
   "metadata": {},
   "source": [
    "Подготовим numpy массивы для текста и значений целевой переменной"
   ]
  },
  {
   "cell_type": "code",
   "execution_count": 117,
   "metadata": {},
   "outputs": [],
   "source": [
    "features = data_ext['texts'].values\n",
    "targets = data_ext['targets'].values"
   ]
  },
  {
   "cell_type": "code",
   "execution_count": 118,
   "metadata": {},
   "outputs": [
    {
     "data": {
      "text/plain": [
       "((12798,), (12798,))"
      ]
     },
     "execution_count": 118,
     "metadata": {},
     "output_type": "execute_result"
    }
   ],
   "source": [
    "features.shape, targets.shape"
   ]
  },
  {
   "cell_type": "markdown",
   "metadata": {},
   "source": [
    "Разделим выборку на тренировочный и тестовый набор"
   ]
  },
  {
   "cell_type": "code",
   "execution_count": 119,
   "metadata": {},
   "outputs": [],
   "source": [
    "data_train, data_test, targets_train, targets_test = train_test_split(features, targets, test_size=0.1)"
   ]
  },
  {
   "cell_type": "code",
   "execution_count": 120,
   "metadata": {},
   "outputs": [
    {
     "data": {
      "text/plain": [
       "((11518,), (1280,), (11518,), (1280,))"
      ]
     },
     "execution_count": 120,
     "metadata": {},
     "output_type": "execute_result"
    }
   ],
   "source": [
    "data_train.shape, data_test.shape, targets_train.shape, targets_test.shape"
   ]
  },
  {
   "cell_type": "markdown",
   "metadata": {},
   "source": [
    "Класс для Pipeline для трансформации матрицы объекты признаки в sparse формат (нужен для PCA)"
   ]
  },
  {
   "cell_type": "code",
   "execution_count": 121,
   "metadata": {},
   "outputs": [],
   "source": [
    "from sklearn.base import BaseEstimator, TransformerMixin\n",
    "\n",
    "class ToDenseTransformer(BaseEstimator, TransformerMixin):\n",
    "    def fit(self, X, y=None):\n",
    "        return self  # nothing else to do\n",
    "    def transform(self, X):\n",
    "        return csr_matrix(X).todense()"
   ]
  },
  {
   "cell_type": "markdown",
   "metadata": {},
   "source": [
    "SVC - строго бинарный классификатор, поэтому импользуемая стратегия тренировки в случае мультиклассовости - OVO. Гиперпараметры регуляризации (такие как C) подбирались вручную без использования сетки из-за ограниченных вычислительных ресурсов."
   ]
  },
  {
   "cell_type": "code",
   "execution_count": 240,
   "metadata": {},
   "outputs": [],
   "source": [
    "classifier = Pipeline([\n",
    "('vectorizer', TfidfVectorizer(analyzer='char_wb', ngram_range=(2, 3), min_df=0.05, max_df=0.5)),\n",
    "('denser', ToDenseTransformer()),\n",
    "('reductor', PCA(n_components=0.90)),\n",
    "('classifier', SVC(kernel='rbf', C=8))])"
   ]
  },
  {
   "cell_type": "code",
   "execution_count": 239,
   "metadata": {},
   "outputs": [
    {
     "data": {
      "text/plain": [
       "0.70078125"
      ]
     },
     "execution_count": 239,
     "metadata": {},
     "output_type": "execute_result"
    }
   ],
   "source": [
    "classifier.fit(data_train, targets_train)\n",
    "predictions = classifier.predict(data_test)\n",
    "accuracy_score(targets_test, predictions)"
   ]
  },
  {
   "cell_type": "markdown",
   "metadata": {},
   "source": [
    "Проверим качество по кросс-валидации"
   ]
  },
  {
   "cell_type": "code",
   "execution_count": 241,
   "metadata": {},
   "outputs": [
    {
     "data": {
      "text/plain": [
       "array([0.6203125 , 0.6217765 , 0.61604585])"
      ]
     },
     "execution_count": 241,
     "metadata": {},
     "output_type": "execute_result"
    }
   ],
   "source": [
    "cross_val_score(classifier, data_train, targets_train, scoring='accuracy', cv=3)"
   ]
  },
  {
   "cell_type": "markdown",
   "metadata": {},
   "source": [
    "Построим confusion matrix при помощи cross_val_predict"
   ]
  },
  {
   "cell_type": "code",
   "execution_count": 242,
   "metadata": {},
   "outputs": [
    {
     "data": {
      "text/plain": [
       "array([[644,  46,  48,  42,  74,  65,  38,  40,   5,  23,   4],\n",
       "       [ 65, 502,  99,  79, 103,  88,  38,  63,   7,  28,   6],\n",
       "       [ 45,  93, 705,  54,  85,  86,  39,  50,  18,  36,   7],\n",
       "       [ 49,  82,  69, 555,  83,  68,  43,  57,  13,  23,   8],\n",
       "       [ 65,  98,  74,  69, 651,  86,  27,  38,  16,  35,  12],\n",
       "       [ 68, 102,  99,  88,  84, 440,  40,  70,  12,  41,  15],\n",
       "       [ 42,  43,  33,  36,  35,  56, 738,  25,   7,  15,   5],\n",
       "       [ 51,  72,  67,  58,  70,  82,  31, 522,  14,  21,   3],\n",
       "       [  7,  22,  18,  17,  18,  18,   9,  14, 870,   5,   2],\n",
       "       [ 24,  66,  38,  32,  60,  50,  15,  40,   9, 537,   4],\n",
       "       [  2,   8,  14,   3,   9,   0,   0,   2,   3,   1, 970]])"
      ]
     },
     "execution_count": 242,
     "metadata": {},
     "output_type": "execute_result"
    }
   ],
   "source": [
    "y_pred = cross_val_predict(classifier, data_train, targets_train, cv=3)\n",
    "conf_mx = confusion_matrix(targets_train, y_pred)\n",
    "conf_mx"
   ]
  },
  {
   "cell_type": "code",
   "execution_count": 243,
   "metadata": {},
   "outputs": [
    {
     "data": {
      "text/plain": [
       "<Figure size 432x288 with 0 Axes>"
      ]
     },
     "metadata": {},
     "output_type": "display_data"
    },
    {
     "data": {
      "image/png": "[encoded data removed]",
      "text/plain": [
       "<Figure size 288x288 with 1 Axes>"
      ]
     },
     "metadata": {
      "needs_background": "light"
     },
     "output_type": "display_data"
    }
   ],
   "source": [
    "plt.figure()\n",
    "plt.matshow(conf_mx, cmap=plt.cm.gray)\n",
    "plt.show()"
   ]
  },
  {
   "cell_type": "markdown",
   "metadata": {},
   "source": [
    "Посмотрим на частоты ошибок по классам"
   ]
  },
  {
   "cell_type": "code",
   "execution_count": 244,
   "metadata": {},
   "outputs": [],
   "source": [
    "row_sums = conf_mx.sum(axis=1, keepdims=True)\n",
    "norm_conf_mx = conf_mx / row_sums"
   ]
  },
  {
   "cell_type": "code",
   "execution_count": 245,
   "metadata": {},
   "outputs": [
    {
     "data": {
      "image/png": "[encoded data removed]",
      "text/plain": [
       "<Figure size 288x288 with 1 Axes>"
      ]
     },
     "metadata": {
      "needs_background": "light"
     },
     "output_type": "display_data"
    }
   ],
   "source": [
    "np.fill_diagonal(norm_conf_mx, 0)\n",
    "plt.matshow(norm_conf_mx, cmap=plt.cm.gray)\n",
    "plt.show()"
   ]
  },
  {
   "cell_type": "markdown",
   "metadata": {},
   "source": [
    "Затренируем алгоритм на всех данных"
   ]
  },
  {
   "cell_type": "code",
   "execution_count": 246,
   "metadata": {},
   "outputs": [
    {
     "data": {
      "text/plain": [
       "Pipeline(steps=[('vectorizer',\n",
       "                 TfidfVectorizer(analyzer='char_wb', max_df=0.5, min_df=0.05,\n",
       "                                 ngram_range=(2, 3))),\n",
       "                ('denser', ToDenseTransformer()),\n",
       "                ('reductor', PCA(n_components=0.9)), ('classifier', SVC(C=8))])"
      ]
     },
     "execution_count": 246,
     "metadata": {},
     "output_type": "execute_result"
    }
   ],
   "source": [
    "classifier.fit(data_train, targets_train)"
   ]
  },
  {
   "cell_type": "markdown",
   "metadata": {},
   "source": [
    "Качество на тестовой выборке"
   ]
  },
  {
   "cell_type": "code",
   "execution_count": 247,
   "metadata": {},
   "outputs": [
    {
     "data": {
      "text/plain": [
       "0.70078125"
      ]
     },
     "execution_count": 247,
     "metadata": {},
     "output_type": "execute_result"
    }
   ],
   "source": [
    "accuracy_score(targets_test, classifier.predict(data_test))"
   ]
  },
  {
   "cell_type": "markdown",
   "metadata": {},
   "source": [
    "Проверим качество на текстах на тестовой выборке, вместо отрывков текста"
   ]
  },
  {
   "cell_type": "code",
   "execution_count": 248,
   "metadata": {},
   "outputs": [],
   "source": [
    "texts = data['cleaned_text'].values[-80:]\n",
    "targs = data['targets'].values[-80:]"
   ]
  },
  {
   "cell_type": "code",
   "execution_count": 249,
   "metadata": {},
   "outputs": [],
   "source": [
    "def predict_text(texts):\n",
    "    preds_all_texts = []\n",
    "    for text in texts:\n",
    "        pred_data = np.array([' '.join(part) for part in chunks(text.split(), 200)])\n",
    "        preds = classifier.predict(pred_data)\n",
    "        counts = np.bincount(preds)\n",
    "        preds_all_texts.append(np.argmax(counts))\n",
    "    return np.array(preds_all_texts)"
   ]
  },
  {
   "cell_type": "code",
   "execution_count": 250,
   "metadata": {},
   "outputs": [
    {
     "data": {
      "text/plain": [
       "array([ 7,  4,  0,  5,  4,  3,  2,  0,  0,  9,  1,  1,  1,  4,  5,  6, 10,\n",
       "        0,  1,  5,  4,  1,  5,  4,  5,  5,  5,  8,  7,  4,  9,  1,  4,  9,\n",
       "        2,  1,  2,  3,  3,  0,  1,  2,  0,  7,  1,  9,  3,  4,  7,  2,  0,\n",
       "        8,  1,  2,  4,  9,  7,  2,  7,  7,  1,  7,  5,  2,  4,  3,  0,  2,\n",
       "        2,  8,  3,  0,  5,  2,  5,  8,  4,  5,  6,  4])"
      ]
     },
     "execution_count": 250,
     "metadata": {},
     "output_type": "execute_result"
    }
   ],
   "source": [
    "preds = predict_text(texts)\n",
    "preds"
   ]
  },
  {
   "cell_type": "code",
   "execution_count": 251,
   "metadata": {},
   "outputs": [
    {
     "data": {
      "text/plain": [
       "array([ 7,  4,  0,  5,  4,  3,  2,  0,  0,  9,  1,  1,  1,  4,  5,  6, 10,\n",
       "        2,  1,  5,  4,  1,  5,  4,  5,  5,  5,  8,  7,  4,  9,  1,  4,  9,\n",
       "        2,  1,  2,  3,  3,  0,  1,  3,  7,  0,  1,  9,  3,  4,  7,  2,  0,\n",
       "        8,  1,  2,  4,  9,  7,  2,  7,  7,  1,  7,  5,  2,  4,  3,  0,  2,\n",
       "        2,  8,  3,  0,  5,  2,  5,  8,  4,  5,  6,  4])"
      ]
     },
     "execution_count": 251,
     "metadata": {},
     "output_type": "execute_result"
    }
   ],
   "source": [
    "targs"
   ]
  },
  {
   "cell_type": "code",
   "execution_count": 253,
   "metadata": {},
   "outputs": [
    {
     "name": "stdout",
     "output_type": "stream",
     "text": [
      "Доля правильных ответов на текстах на тестовом наборе: 0.95\n"
     ]
    }
   ],
   "source": [
    "print('Доля правильных ответов на текстах на тестовом наборе: {}'.format(accuracy_score(targs, preds)))"
   ]
  },
  {
   "cell_type": "markdown",
   "metadata": {},
   "source": [
    "Сохраним классификатор"
   ]
  },
  {
   "cell_type": "code",
   "execution_count": 212,
   "metadata": {},
   "outputs": [
    {
     "data": {
      "text/plain": [
       "['/Users/artyomkholodkov/Downloads/Models/model.pkl']"
      ]
     },
     "execution_count": 212,
     "metadata": {},
     "output_type": "execute_result"
    }
   ],
   "source": [
    "dump(classifier, '/Users/artyomkholodkov/Downloads/Models/model.pkl', compress=1)"
   ]
  },
  {
   "cell_type": "code",
   "execution_count": null,
   "metadata": {},
   "outputs": [],
   "source": []
  }
 ],
 "metadata": {
  "kernelspec": {
   "display_name": "Python 3",
   "language": "python",
   "name": "python3"
  },
  "language_info": {
   "codemirror_mode": {
    "name": "ipython",
    "version": 3
   },
   "file_extension": ".py",
   "mimetype": "text/x-python",
   "name": "python",
   "nbconvert_exporter": "python",
   "pygments_lexer": "ipython3",
   "version": "3.7.9"
  }
 },
 "nbformat": 4,
 "nbformat_minor": 4
}
